{
 "cells": [
  {
   "cell_type": "markdown",
   "id": "16003bb1-7834-455a-af05-ef39e9b7b135",
   "metadata": {
    "tags": []
   },
   "source": [
    "# 行政手続き棚卸しデータ\n",
    "\n",
    "## 概要\n",
    "\n",
    "* [行政手続棚卸 手続要領](https://emaff.enterprise.slack.com/files/U02V21M61UK/F03HWPCGLA0/___________________________________________r3.pdf) (共創プラットフォームslackリンク)\n",
    "\n",
    "調査項目は調査項目群A-Eに分かれている。調査項目群によって提出期限が異なる。 なお、今年度より、調査項目群Ｄ（電子決裁移行加速化方針に基づくフォローアップ調査）についての調査は実施しない。\n",
    "\n",
    "| 調査項目群 | 調査項目 No. | 提出期限 |\n",
    "| --------- | --------- | ------- |\n",
    "| Ａ（基本項目） | 0～13 | 令和３年９月 27 日（月） |\n",
    "| Ｂ（オンライン状況等の詳細に係る項目）| 14～23 | 令和４年２月 10 日（木） |\n",
    "| Ｃ （データ活用等に係る項目）| 24～31 | 同上 |\n",
    "| Ｅ（紙の書面の作成・提出を求めている手続の見直しに係る項目） | 38～39 | 同上 |\n",
    "\n",
    "* １次調査では、調査項目群Ａについて、手続の所管府省が記入する。 ２次調査では、調査項目群Ｂ及びＣについて、手続を実施する府省（担当府省）がそれぞれ記入する（府省共通手続については、担当府省ごとに記入する。）。 なお、府省共通手続以外の手続については、原則、所管府省＝担当府省となる想定である。 また、調査項目群Ｅについては、手続の所管府省が記入する。\n",
    "* 調査様式には、前回の「行政手続等・行政保有データ（行政手続等関連）の棚卸し」の調査結果を基に、あらかじめデータが記入されている項目がある。この場合、必要に応じて時点更新する。なお、時点更新をする際は、見え消しにせず上書きする。 \n",
    "* 各府省が所管する法令において規定されている手続であって、様式にあらかじめ記入されていない手続は、最終行に適宜、行を追加して記入する（原則、１次調査において実施することとする。）。\n",
    "* 手続自体が廃止された等により、手続を削除したい場合は、様式の「削除」欄（Ａ列）で「○」を選択（行ごとの削除はしない。）する（原則、１次調査において実施することとする。）。 \n",
    "* 本調査は法令に規定されている手続の網羅的な調査であり、手続によっては、選択項目に適切な選択肢がない場合（複数の選択肢に該当する場合等）がある。選択肢の中から一つのみを選択することが困難な場合は、もっとも適切な選択肢（例えば、件数が多い手続に該当する選択肢）を選んだ上で、付記すべき事項があれば、各調査項目群の備考欄に記入する。 \n",
    "* Ｅ群については、「規制改革実施計画（令和３年６月 18 日閣議決定）」において、以下のとおり決定されていることを踏まえ、各府省の取組について、規制改革推進室が調査を行う項目である。\n",
    "\n",
    "## URLs\n",
    "\n",
    "* 調査項目A, B: https://cio.go.jp/tetsuduki_tanaoroshi\n",
    "    * R2調査(R1末時点/R3公表): https://cio.go.jp/sites/default/files/uploads/documents/InventoryR1_20210331.xlsx\n",
    "    * R1調査(H30末時点/R2公表): https://cio.go.jp/sites/default/files/uploads/documents/Inventory_20200702r.xlsx\n",
    "* 調査項目A, C: https://www.digital.go.jp/resources/open_data/\n",
    "    * R2調査(R1末時点/R3公表): https://www.digital.go.jp/assets/contents/node/basic_page/field_ref_resources/f7fde41d-ffca-4b2a-9b25-94b8a701a037/202103_resources_procedure_result_02.xlsx\n",
    "    * R1調査(H30末時点/R2公表): https://www.digital.go.jp/assets/contents/node/basic_page/field_ref_resources/f7fde41d-ffca-4b2a-9b25-94b8a701a037/202003_resources_procedure_result_02.xlsx\n",
    "* 調査項目A, E: https://www8.cao.go.jp/kisei-kaikaku/kisei/imprint/i_index.html\n",
    "    * R2調査 (R1末時点/R3公表): https://www8.cao.go.jp/kisei-kaikaku/kisei/imprint/document/220527document_03.xlsx\n",
    "\n",
    "## 参考\n",
    "\n",
    "* [オンライン化を実施する行政手続の一覧等](https://www.digital.go.jp/assets/contents/node/basic_page/field_ref_resources/681a8306-6d79-4082-925a-a8ba82e97d9d/0cdf777d/20211224_policies_priority_doc_05.pdf)\n",
    "\n",
    "## codes"
   ]
  },
  {
   "cell_type": "markdown",
   "id": "979e2805-5b94-4dbf-86f2-a90555b8fcac",
   "metadata": {},
   "source": [
    "### pip modules"
   ]
  },
  {
   "cell_type": "code",
   "execution_count": 2,
   "id": "e9e5a8b1-c8d1-487a-8bb5-9b593226f85e",
   "metadata": {},
   "outputs": [
    {
     "name": "stdout",
     "output_type": "stream",
     "text": [
      "Collecting python-dotenv\n",
      "  Downloading python_dotenv-0.20.0-py3-none-any.whl (17 kB)\n",
      "Installing collected packages: python-dotenv\n",
      "Successfully installed python-dotenv-0.20.0\n",
      "Note: you may need to restart the kernel to use updated packages.\n"
     ]
    }
   ],
   "source": [
    "pip install python-dotenv"
   ]
  },
  {
   "cell_type": "code",
   "execution_count": 1,
   "id": "a8828c06-5aea-4e64-88b8-2cf7218370b7",
   "metadata": {},
   "outputs": [
    {
     "name": "stdout",
     "output_type": "stream",
     "text": [
      "Requirement already satisfied: openpyxl in /Users/fujimoto/Library/jupyterlab-desktop/jlab_server/lib/python3.8/site-packages (3.0.10)\n",
      "Requirement already satisfied: et-xmlfile in /Users/fujimoto/Library/jupyterlab-desktop/jlab_server/lib/python3.8/site-packages (from openpyxl) (1.1.0)\n",
      "Note: you may need to restart the kernel to use updated packages.\n"
     ]
    }
   ],
   "source": [
    "pip install openpyxl"
   ]
  },
  {
   "cell_type": "code",
   "execution_count": 2,
   "id": "09269196-291e-4920-8dcc-b983f27a542f",
   "metadata": {},
   "outputs": [
    {
     "name": "stdout",
     "output_type": "stream",
     "text": [
      "Requirement already satisfied: google-cloud-bigquery in /Users/fujimoto/Library/jupyterlab-desktop/jlab_server/lib/python3.8/site-packages (3.2.0)\n",
      "Requirement already satisfied: grpcio<2.0dev,>=1.38.1 in /Users/fujimoto/Library/jupyterlab-desktop/jlab_server/lib/python3.8/site-packages (from google-cloud-bigquery) (1.47.0)\n",
      "Requirement already satisfied: google-cloud-bigquery-storage<3.0.0dev,>=2.0.0 in /Users/fujimoto/Library/jupyterlab-desktop/jlab_server/lib/python3.8/site-packages (from google-cloud-bigquery) (2.13.2)\n",
      "Requirement already satisfied: google-cloud-core<3.0.0dev,>=1.4.1 in /Users/fujimoto/Library/jupyterlab-desktop/jlab_server/lib/python3.8/site-packages (from google-cloud-bigquery) (2.3.1)\n",
      "Requirement already satisfied: proto-plus<2.0.0dev,>=1.15.0 in /Users/fujimoto/Library/jupyterlab-desktop/jlab_server/lib/python3.8/site-packages (from google-cloud-bigquery) (1.20.6)\n",
      "Requirement already satisfied: packaging<22.0.0dev,>=14.3 in /Users/fujimoto/Library/jupyterlab-desktop/jlab_server/lib/python3.8/site-packages (from google-cloud-bigquery) (21.3)\n",
      "Requirement already satisfied: python-dateutil<3.0dev,>=2.7.2 in /Users/fujimoto/Library/jupyterlab-desktop/jlab_server/lib/python3.8/site-packages (from google-cloud-bigquery) (2.8.2)\n",
      "Requirement already satisfied: pyarrow<9.0dev,>=3.0.0 in /Users/fujimoto/Library/jupyterlab-desktop/jlab_server/lib/python3.8/site-packages (from google-cloud-bigquery) (8.0.0)\n",
      "Requirement already satisfied: google-resumable-media<3.0dev,>=0.6.0 in /Users/fujimoto/Library/jupyterlab-desktop/jlab_server/lib/python3.8/site-packages (from google-cloud-bigquery) (2.3.3)\n",
      "Requirement already satisfied: requests<3.0.0dev,>=2.18.0 in /Users/fujimoto/Library/jupyterlab-desktop/jlab_server/lib/python3.8/site-packages (from google-cloud-bigquery) (2.27.1)\n",
      "Requirement already satisfied: google-api-core[grpc]!=2.0.*,!=2.1.*,!=2.2.*,!=2.3.0,<3.0.0dev,>=1.31.5 in /Users/fujimoto/Library/jupyterlab-desktop/jlab_server/lib/python3.8/site-packages (from google-cloud-bigquery) (2.8.2)\n",
      "Requirement already satisfied: protobuf<4.0.0dev,>=3.12.0 in /Users/fujimoto/Library/jupyterlab-desktop/jlab_server/lib/python3.8/site-packages (from google-cloud-bigquery) (3.20.1)\n",
      "Requirement already satisfied: googleapis-common-protos<2.0dev,>=1.56.2 in /Users/fujimoto/Library/jupyterlab-desktop/jlab_server/lib/python3.8/site-packages (from google-api-core[grpc]!=2.0.*,!=2.1.*,!=2.2.*,!=2.3.0,<3.0.0dev,>=1.31.5->google-cloud-bigquery) (1.56.3)\n",
      "Requirement already satisfied: google-auth<3.0dev,>=1.25.0 in /Users/fujimoto/Library/jupyterlab-desktop/jlab_server/lib/python3.8/site-packages (from google-api-core[grpc]!=2.0.*,!=2.1.*,!=2.2.*,!=2.3.0,<3.0.0dev,>=1.31.5->google-cloud-bigquery) (2.8.0)\n",
      "Requirement already satisfied: grpcio-status<2.0dev,>=1.33.2 in /Users/fujimoto/Library/jupyterlab-desktop/jlab_server/lib/python3.8/site-packages (from google-api-core[grpc]!=2.0.*,!=2.1.*,!=2.2.*,!=2.3.0,<3.0.0dev,>=1.31.5->google-cloud-bigquery) (1.47.0)\n",
      "Requirement already satisfied: google-crc32c<2.0dev,>=1.0 in /Users/fujimoto/Library/jupyterlab-desktop/jlab_server/lib/python3.8/site-packages (from google-resumable-media<3.0dev,>=0.6.0->google-cloud-bigquery) (1.3.0)\n",
      "Requirement already satisfied: six>=1.5.2 in /Users/fujimoto/Library/jupyterlab-desktop/jlab_server/lib/python3.8/site-packages (from grpcio<2.0dev,>=1.38.1->google-cloud-bigquery) (1.16.0)\n",
      "Requirement already satisfied: pyparsing!=3.0.5,>=2.0.2 in /Users/fujimoto/Library/jupyterlab-desktop/jlab_server/lib/python3.8/site-packages (from packaging<22.0.0dev,>=14.3->google-cloud-bigquery) (3.0.8)\n",
      "Requirement already satisfied: numpy>=1.16.6 in /Users/fujimoto/Library/jupyterlab-desktop/jlab_server/lib/python3.8/site-packages (from pyarrow<9.0dev,>=3.0.0->google-cloud-bigquery) (1.22.3)\n",
      "Requirement already satisfied: charset-normalizer~=2.0.0 in /Users/fujimoto/Library/jupyterlab-desktop/jlab_server/lib/python3.8/site-packages (from requests<3.0.0dev,>=2.18.0->google-cloud-bigquery) (2.0.12)\n",
      "Requirement already satisfied: urllib3<1.27,>=1.21.1 in /Users/fujimoto/Library/jupyterlab-desktop/jlab_server/lib/python3.8/site-packages (from requests<3.0.0dev,>=2.18.0->google-cloud-bigquery) (1.26.9)\n",
      "Requirement already satisfied: certifi>=2017.4.17 in /Users/fujimoto/Library/jupyterlab-desktop/jlab_server/lib/python3.8/site-packages (from requests<3.0.0dev,>=2.18.0->google-cloud-bigquery) (2021.10.8)\n",
      "Requirement already satisfied: idna<4,>=2.5 in /Users/fujimoto/Library/jupyterlab-desktop/jlab_server/lib/python3.8/site-packages (from requests<3.0.0dev,>=2.18.0->google-cloud-bigquery) (3.3)\n",
      "Requirement already satisfied: cachetools<6.0,>=2.0.0 in /Users/fujimoto/Library/jupyterlab-desktop/jlab_server/lib/python3.8/site-packages (from google-auth<3.0dev,>=1.25.0->google-api-core[grpc]!=2.0.*,!=2.1.*,!=2.2.*,!=2.3.0,<3.0.0dev,>=1.31.5->google-cloud-bigquery) (5.2.0)\n",
      "Requirement already satisfied: pyasn1-modules>=0.2.1 in /Users/fujimoto/Library/jupyterlab-desktop/jlab_server/lib/python3.8/site-packages (from google-auth<3.0dev,>=1.25.0->google-api-core[grpc]!=2.0.*,!=2.1.*,!=2.2.*,!=2.3.0,<3.0.0dev,>=1.31.5->google-cloud-bigquery) (0.2.8)\n",
      "Requirement already satisfied: rsa<5,>=3.1.4 in /Users/fujimoto/Library/jupyterlab-desktop/jlab_server/lib/python3.8/site-packages (from google-auth<3.0dev,>=1.25.0->google-api-core[grpc]!=2.0.*,!=2.1.*,!=2.2.*,!=2.3.0,<3.0.0dev,>=1.31.5->google-cloud-bigquery) (4.8)\n",
      "Requirement already satisfied: pyasn1<0.5.0,>=0.4.6 in /Users/fujimoto/Library/jupyterlab-desktop/jlab_server/lib/python3.8/site-packages (from pyasn1-modules>=0.2.1->google-auth<3.0dev,>=1.25.0->google-api-core[grpc]!=2.0.*,!=2.1.*,!=2.2.*,!=2.3.0,<3.0.0dev,>=1.31.5->google-cloud-bigquery) (0.4.8)\n",
      "Note: you may need to restart the kernel to use updated packages.\n"
     ]
    }
   ],
   "source": [
    "pip install google-cloud-bigquery"
   ]
  },
  {
   "cell_type": "code",
   "execution_count": 6,
   "id": "a237a94f-f804-4c5e-a50b-7869a1305f02",
   "metadata": {},
   "outputs": [
    {
     "name": "stdout",
     "output_type": "stream",
     "text": [
      "The dotenv extension is already loaded. To reload it, use:\n",
      "  %reload_ext dotenv\n"
     ]
    }
   ],
   "source": [
    "load_ext dotenv"
   ]
  },
  {
   "cell_type": "code",
   "execution_count": 7,
   "id": "102c0a47-5876-405d-873e-6d63af90c139",
   "metadata": {},
   "outputs": [],
   "source": [
    "dotenv"
   ]
  },
  {
   "cell_type": "markdown",
   "id": "6cfbb426-382f-4ffa-b9fd-919a695b5db7",
   "metadata": {},
   "source": [
    "### ファイルダウンロード"
   ]
  },
  {
   "cell_type": "code",
   "execution_count": 3,
   "id": "f6891f12-883e-4fb7-991b-70731e26ef3e",
   "metadata": {
    "tags": []
   },
   "outputs": [],
   "source": [
    "import requests\n",
    "\n",
    "urls = {\n",
    "    'inventory_ab_r1.xlsx': 'https://cio.go.jp/sites/default/files/uploads/documents/InventoryR1_20210331.xlsx',\n",
    "    'inventory_ac_r1.xlsx': 'https://www.digital.go.jp/assets/contents/node/basic_page/field_ref_resources/f7fde41d-ffca-4b2a-9b25-94b8a701a037/202103_resources_procedure_result_02.xlsx',\n",
    "    'inventory_ae_r1.xlsx': 'https://www8.cao.go.jp/kisei-kaikaku/kisei/imprint/document/220527document_03.xlsx',\n",
    "}\n",
    "\n",
    "for file, url in urls.items():\n",
    "    content = requests.get(url).content\n",
    "    with open(file, 'wb') as f:\n",
    "        f.write(content)"
   ]
  },
  {
   "cell_type": "markdown",
   "id": "e0f8cb22-28ef-4049-8c80-ed2ecb7d9a67",
   "metadata": {},
   "source": [
    "### to csv (takes few miniutes)"
   ]
  },
  {
   "cell_type": "code",
   "execution_count": 4,
   "id": "8a61e614-726d-47af-95cd-9aa63622c7b7",
   "metadata": {},
   "outputs": [],
   "source": [
    "import pandas\n",
    "\n",
    "for file in urls:\n",
    "    csv = file.replace('.xlsx', '.csv')\n",
    "    excel = pandas.read_excel(file)\n",
    "    excel.to_csv(csv, header=False, index=False)"
   ]
  },
  {
   "cell_type": "markdown",
   "id": "99f93c73-9a16-4d48-93ed-d80b461eeeb2",
   "metadata": {},
   "source": [
    "### normalize headers, values\n",
    "\n",
    "#### R2調査結果a, b (from CIOポータル)"
   ]
  },
  {
   "cell_type": "code",
   "execution_count": 5,
   "id": "1bf3e3b0-0fc9-458f-8591-a8c9279ad897",
   "metadata": {},
   "outputs": [
    {
     "name": "stderr",
     "output_type": "stream",
     "text": [
      "/var/folders/38/ct2f7b2s5yj6shv5741pw1xc0000gn/T/ipykernel_50711/959748140.py:1: DtypeWarning: Columns (0,4,6,7,8,9,10,11,12,13,18,22,29,31,34,35,37,39,40,41,42,43,44,51,52,53,54,55,56,57,58,60,61,66,67,68,69,70,73,74,75,76,77,78,82,84,85,86,87,88,90,92,93,94,95,97,98,99,100,101,103,104,105,106,107,108,110,111,112,113,114,116,117,118,119,121,122,123,124,125,127,128,129,130,131,133,134,135,136,137,139,140,141,142,143,144,145,146,147,148,149,150,151,152,153,154,155,156,157,158,159,160,161,162,163,164,165,166,167,168,169,170,171,172,173,174,175,177,178,179,180,181,183,184,185,187,188,189,190,191,193,194,195,197,198,199,200,201,203,204,205,209,211,212,213,214,216,218,219,220,221,222,223,224,226,228,229,230,231,232,233,234,236,238,239,240,241,242,243,244,246,248,249,250,251,252,253,254,256,258,259,260,261,262,263,264,266,268,269,270,271,272,273,274,276,278,279,280,281,282,283,284,286,287,288,289,290,291,292,293,294,295,296,297,298,299,300,301,302,303,304,305,306,307,308,311,312,313,315,316,317) have mixed types. Specify dtype option on import or set low_memory=False.\n",
      "  df = pandas.read_csv('inventory_ab_r1.csv', header=None)\n"
     ]
    }
   ],
   "source": [
    "df = pandas.read_csv('inventory_ab_r1.csv', header=None)\n",
    "(n_rows, n_cols) = df.shape"
   ]
  },
  {
   "cell_type": "code",
   "execution_count": 6,
   "id": "3911e710-bd07-4a0f-b319-d21da99c8786",
   "metadata": {},
   "outputs": [],
   "source": [
    "def normalize_header_string(s: str) -> str:\n",
    "    s = s.replace(\"\\n\", \"\")\n",
    "    s = s.replace(\" \", \"\")\n",
    "    \n",
    "    return s\n",
    "\n",
    "def join_header_stack(stack):\n",
    "    a = [s for s in stack if s != \"\"]\n",
    "    return \"_\".join(a)\n",
    "\n",
    "#\n",
    "# headers\n",
    "#\n",
    "header_stack = [''] * 5\n",
    "\n",
    "for i in range(n_cols):\n",
    "    headers = df[i][1:6]\n",
    "    for j, h in enumerate(headers):\n",
    "        if pandas.isna(h) == False:\n",
    "            header_stack[j] = normalize_header_string(h)\n",
    "            if j+1 < len(headers):\n",
    "                header_stack[j+1:] = [\"\"] * (len(headers)-(j+1))\n",
    "    header = join_header_stack(header_stack)\n",
    "    df[i][0] = header\n",
    "\n",
    "df_header = df.iloc[0]"
   ]
  },
  {
   "cell_type": "code",
   "execution_count": 7,
   "id": "0ea1f3a7-0ca4-4eb2-94c8-a838865d1573",
   "metadata": {},
   "outputs": [],
   "source": [
    "import re\n",
    "\n",
    "df_normalized = df.drop(range(0, 6+1))\n",
    "df_normalized.reset_index(inplace=True, drop=True)\n",
    "(n, m) = df_normalized.shape\n",
    "\n",
    "#\n",
    "# values\n",
    "#\n",
    "# W: 手続き廃止の検討状況 / 時期に文字列が入っている (数値カラム)\n",
    "for i in range(n):\n",
    "    v = df_normalized[22][i]\n",
    "    if pandas.isna(v):\n",
    "        continue\n",
    "    if '2022年' in str(v):\n",
    "        v = '2022'\n",
    "    if '令和３年' in str(v):\n",
    "        v = '2021'\n",
    "    if 'R2' in str(v):\n",
    "        v = '2020'\n",
    "    df_normalized[22][i] = int(v)\n",
    "\n",
    "# J: 条例 (nのm、が記載されてる)\n",
    "for i in range(n):\n",
    "    v = df_normalized[9][i]\n",
    "    if pandas.isna(v):\n",
    "        continue\n",
    "    if 'の' in str(v):\n",
    "        v = v.replace(\"の\", \".\")\n",
    "        df_normalized[9][i] = float(v)\n",
    "\n",
    "# BG, BJ: 処理期間\n",
    "for i in range(n):\n",
    "    v = df_normalized[58][i]\n",
    "    if pandas.isna(v):\n",
    "        continue\n",
    "    if v == '記入困難':\n",
    "        v = -1\n",
    "    if v == '実績なし':\n",
    "        v = -1\n",
    "    if \"〜\" in str(v) or \"～\" in str(v):\n",
    "        v = -1\n",
    "    df_normalized[58][i] = v\n",
    "for i in range(n):\n",
    "    v = df_normalized[61][i]\n",
    "    if pandas.isna(v):\n",
    "        continue\n",
    "    if v == '記入困難':\n",
    "        v = -1\n",
    "    if v == '実績なし':\n",
    "        v = -1\n",
    "    if \"〜\" in str(v) or \"～\" in str(v):\n",
    "        v = -1\n",
    "    df_normalized[61][i] = v\n",
    "    \n",
    "# CZ, EJ: 時期\n",
    "for i in range(n):\n",
    "    v = df_normalized[103][i]\n",
    "    if pandas.isna(v):\n",
    "        continue\n",
    "    if '年' in str(v):\n",
    "        v = v.replace('年', '')\n",
    "    df_normalized[149][i] = v\n",
    "for i in range(n):\n",
    "    v = df_normalized[149][i]\n",
    "    if pandas.isna(v):\n",
    "        continue\n",
    "    r = re.match(r'平成(\\d+)', str(v))\n",
    "    if r:\n",
    "        v = int(r[1]) + 1988\n",
    "    df_normalized[149][i] = v\n"
   ]
  },
  {
   "cell_type": "code",
   "execution_count": 8,
   "id": "f51d5f5d-6dae-40c9-b947-135f1f20520b",
   "metadata": {},
   "outputs": [],
   "source": [
    "df_header.to_csv('inventory_ab_r1_header.csv', header=False, index=True)\n",
    "df_normalized.to_csv('inventory_ab_r1_normalized.csv', header=True, index=False)"
   ]
  },
  {
   "cell_type": "markdown",
   "id": "598e5821-c2e1-4da4-95cf-f7390488b42d",
   "metadata": {},
   "source": [
    "### importing data (to bq) (pending)"
   ]
  },
  {
   "cell_type": "code",
   "execution_count": 15,
   "id": "668f32b5-e08a-4aa3-8530-5da20807b168",
   "metadata": {},
   "outputs": [],
   "source": [
    "from google.cloud import bigquery\n",
    "\n",
    "project_id = \"bq-examples-352706\"\n",
    "dataset_id = \"admin-proc-inventory\"\n",
    "\n",
    "client = bigquery.Client(project=project_id)\n",
    "dataset = client.dataset(dataset_id)"
   ]
  }
 ],
 "metadata": {
  "kernelspec": {
   "display_name": "Python 3 (ipykernel)",
   "language": "python",
   "name": "python3"
  },
  "language_info": {
   "codemirror_mode": {
    "name": "ipython",
    "version": 3
   },
   "file_extension": ".py",
   "mimetype": "text/x-python",
   "name": "python",
   "nbconvert_exporter": "python",
   "pygments_lexer": "ipython3",
   "version": "3.8.13"
  }
 },
 "nbformat": 4,
 "nbformat_minor": 5
}
